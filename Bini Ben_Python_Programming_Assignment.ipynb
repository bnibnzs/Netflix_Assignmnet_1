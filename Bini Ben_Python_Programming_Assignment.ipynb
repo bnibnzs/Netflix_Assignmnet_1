{
 "cells": [
  {
   "cell_type": "code",
   "execution_count": 1,
   "metadata": {},
   "outputs": [],
   "source": [
    "#importing required libraries\n",
    "import pandas as pd\n",
    "import csv\n",
    "import os"
   ]
  },
  {
   "cell_type": "code",
   "execution_count": 2,
   "metadata": {},
   "outputs": [],
   "source": [
    "#Importing the csv file and joining using os.path.join()\n",
    "\n",
    "csvpath= os.path.join('../', 'Resource', 'yahoo_stock.csv')"
   ]
  },
  {
   "cell_type": "code",
   "execution_count": 3,
   "metadata": {},
   "outputs": [
    {
     "name": "stdout",
     "output_type": "stream",
     "text": [
      " Date of the day with greatest absolute percent change:- 3/13/2020 \n",
      " Percent change of the daywith greatest absolute percent change:- 5.49% \n",
      " Stock High of the day with greatest absolute percent change:- 2711.330078 \n",
      " Stock Low of the day with greatest absolute percent change:- 2492.370117 \n",
      " Volume of the day with greatest absolute percent change:- 8258670000 .\n"
     ]
    }
   ],
   "source": [
    "# Opening the comma-delimited CSV file and read by using csv.DictReader() class.\n",
    "\n",
    "with open(csvpath, 'r') as csvfile:\n",
    "    \n",
    "    input_file= csv.DictReader(csvfile, delimiter=',')\n",
    "    \n",
    "    #Creating variable to save output row as printrow and greatest daily percent change as max_pct\n",
    "    max_pct =0\n",
    "    printrow ={}\n",
    "    \n",
    "    #Iterating through each row  \n",
    "    \n",
    "    for row in input_file:\n",
    "        \n",
    "        #Calculating the daily percent change\n",
    "        daily_pct_change = round(((float(row['Close']) - float(row['Open'])) / float(row['Open'])) * 100, 2)\n",
    "        \n",
    "        \n",
    "        #Checking for absolute greatest percent daily change\n",
    "        if abs(daily_pct_change) > max_pct:\n",
    "            \n",
    "            max_pct = daily_pct_change\n",
    "            printrow = row\n",
    "        \n",
    "        \n",
    "#Printing out the date, percent change, stock high, stock low and volume  for the day with  greatest absolute percent change.        \n",
    "print(f\" Date of the day with greatest absolute percent change:- {printrow['Date']} \\n Percent change of the daywith greatest absolute percent change:- {max_pct}% \\n Stock High of the day with greatest absolute percent change:- {printrow['High']} \\n Stock Low of the day with greatest absolute percent change:- {printrow['Low']} \\n Volume of the day with greatest absolute percent change:- {printrow['Volume']} .\")\n"
   ]
  },
  {
   "cell_type": "code",
   "execution_count": null,
   "metadata": {},
   "outputs": [],
   "source": []
  }
 ],
 "metadata": {
  "kernelspec": {
   "display_name": "Python 3",
   "language": "python",
   "name": "python3"
  },
  "language_info": {
   "codemirror_mode": {
    "name": "ipython",
    "version": 3
   },
   "file_extension": ".py",
   "mimetype": "text/x-python",
   "name": "python",
   "nbconvert_exporter": "python",
   "pygments_lexer": "ipython3",
   "version": "3.7.7"
  }
 },
 "nbformat": 4,
 "nbformat_minor": 4
}
